{
 "cells": [
  {
   "cell_type": "code",
   "execution_count": null,
   "metadata": {
    "collapsed": true
   },
   "outputs": [],
   "source": [
    "import numpy as np\n",
    "import pandas as pd\n",
    "from sklearn.tree import DecisionTreeClassifier"
   ]
  },
  {
   "cell_type": "code",
   "execution_count": null,
   "metadata": {},
   "outputs": [],
   "source": [
    "X=pd.read_csv(\"train.csv\")\n",
    "test=pd.read_csv(\"test.csv\")\n",
    "y=X[\"Survived\"]\n",
    "X=X.drop([\"Survived\"],axis=1)\n",
    "dataset=pd.concat([X, test], ignore_index=True)\n",
    "\n",
    "dataset\n"
   ]
  },
  {
   "cell_type": "code",
   "execution_count": null,
   "metadata": {
    "collapsed": true
   },
   "outputs": [],
   "source": [
    "dataset=dataset.drop([\"PassengerId\",\"ID\",\"Ticket\"],axis=1)"
   ]
  },
  {
   "cell_type": "code",
   "execution_count": null,
   "metadata": {},
   "outputs": [],
   "source": [
    "dataset.loc[:,(\"Gender\")]=0\n",
    "\n",
    "dataset"
   ]
  },
  {
   "cell_type": "code",
   "execution_count": null,
   "metadata": {},
   "outputs": [],
   "source": [
    "for i in range(0,1309):\n",
    "    if dataset[\"Sex\"][i]=='male':\n",
    "        dataset[\"Gender\"][i]=0\n",
    "    else:\n",
    "        dataset[\"Gender\"][i]=1\n",
    "dataset\n"
   ]
  },
  {
   "cell_type": "code",
   "execution_count": null,
   "metadata": {},
   "outputs": [],
   "source": [
    "dataset=dataset.drop([\"Sex\"],axis=1)\n",
    "dataset"
   ]
  },
  {
   "cell_type": "code",
   "execution_count": null,
   "metadata": {},
   "outputs": [],
   "source": [
    "import math\n",
    "for i in range(0,1309):\n",
    "    if math.isnan(dataset[\"Age\"][i]):\n",
    "        if 'Mr.' in dataset[\"Name\"][i]:\n",
    "            dataset[\"Age\"][i]=30\n",
    "        if 'Mrs.' in dataset[\"Name\"][i]:\n",
    "            dataset[\"Age\"][i]=40\n",
    "        if 'Master.' in dataset[\"Name\"][i]:\n",
    "            dataset[\"Age\"][i]=10\n",
    "        if 'Miss.' in dataset[\"Name\"][i]:\n",
    "            dataset[\"Age\"][i]=22\n",
    "        else:\n",
    "            dataset[\"Age\"][i]=27\n",
    "        \n",
    "dataset=dataset.drop([\"Name\"],axis=1)\n",
    "dataset"
   ]
  },
  {
   "cell_type": "code",
   "execution_count": null,
   "metadata": {
    "scrolled": true
   },
   "outputs": [],
   "source": [
    "dataset.loc[:,(\"Cabin_new\")]=3\n",
    "dataset"
   ]
  },
  {
   "cell_type": "code",
   "execution_count": null,
   "metadata": {},
   "outputs": [],
   "source": [
    "for i in range(0,1309):\n",
    "    if isinstance(dataset[\"Cabin\"][i],str):\n",
    "        if dataset[\"Cabin\"][i][0]=='A':\n",
    "            dataset[\"Cabin_new\"][i]=1\n",
    "        if dataset[\"Cabin\"][i][0]=='B':\n",
    "            dataset[\"Cabin_new\"][i]=2\n",
    "        if dataset[\"Cabin\"][i][0]=='C':\n",
    "            dataset[\"Cabin_new\"][i]=3\n",
    "        if dataset[\"Cabin\"][i][0]=='D':\n",
    "            dataset[\"Cabin_new\"][i]=4\n",
    "        if dataset[\"Cabin\"][i][0]=='E':\n",
    "            dataset[\"Cabin_new\"][i]=5\n",
    "        if dataset[\"Cabin\"][i][0]=='F':\n",
    "            dataset[\"Cabin_new\"][i]=6\n",
    "        if dataset[\"Cabin\"][i][0]=='G':\n",
    "            dataset[\"Cabin_new\"][i]=7\n",
    "        if dataset[\"Cabin\"][i][0]=='T':\n",
    "            dataset[\"Cabin_new\"][i]=21\n",
    "dataset"
   ]
  },
  {
   "cell_type": "code",
   "execution_count": null,
   "metadata": {},
   "outputs": [],
   "source": [
    "dataset=dataset.drop([\"Cabin\",\"Cabin_new\"],axis=1)\n",
    "dataset"
   ]
  },
  {
   "cell_type": "code",
   "execution_count": null,
   "metadata": {},
   "outputs": [],
   "source": [
    "dataset.loc[:,(\"Embarked_new\")]=2\n",
    "for i in range(0,1309):\n",
    "    if dataset[\"Embarked\"][i]=='Q':\n",
    "        dataset[\"Embarked_new\"][i]=1\n",
    "    if dataset[\"Embarked\"][i]=='C':\n",
    "        dataset[\"Embarked_new\"][i]=2\n",
    "    if dataset[\"Embarked\"][i]=='S':\n",
    "        dataset[\"Embarked_new\"][i]=3\n",
    "dataset\n",
    "    \n",
    "        \n",
    "    \n",
    "        "
   ]
  },
  {
   "cell_type": "code",
   "execution_count": null,
   "metadata": {},
   "outputs": [],
   "source": [
    "dataset=dataset.drop([\"Embarked\"],axis=1)\n",
    "dataset"
   ]
  },
  {
   "cell_type": "code",
   "execution_count": null,
   "metadata": {},
   "outputs": [],
   "source": [
    "dataset=dataset.as_matrix()\n",
    "dataset"
   ]
  },
  {
   "cell_type": "code",
   "execution_count": null,
   "metadata": {
    "collapsed": true
   },
   "outputs": [],
   "source": [
    "dataset[1043][1]=8"
   ]
  },
  {
   "cell_type": "code",
   "execution_count": null,
   "metadata": {},
   "outputs": [],
   "source": [
    "dataset"
   ]
  },
  {
   "cell_type": "code",
   "execution_count": null,
   "metadata": {},
   "outputs": [],
   "source": [
    "import tensorflow as tf\n",
    "\n",
    "from sklearn.preprocessing import StandardScaler\n",
    "feature_columns = [tf.contrib.layers.real_valued_column(\"\")]\n",
    "#classifier = tf.contrib.learn.DNNClassifier(feature_columns=feature_columns,\n",
    "       #                                       hidden_units=[4,4,4],\n",
    "        #                                      n_classes=2)\n",
    "\n",
    "scaler = StandardScaler()\n",
    "# Fit only to the training data\n",
    "scaler.fit(dataset)\n",
    "dataset = scaler.transform(dataset)\n",
    "X_train=[0]*710\n",
    "y_train=[0]*710\n",
    "X_test=[0]*181\n",
    "y_test=[0]*181\n",
    "for i in range(0,891):\n",
    "    if i<710:\n",
    "        X_train[i]=dataset[i]\n",
    "        y_train[i]=y[i]\n",
    "    else:\n",
    "        X_test[i-710]=dataset[i]\n",
    "        y_test[i-710]=y[i]\n",
    "#X_train=np.array(X_train,dtype=np.float32)\n",
    "#y_train=np.array(y_train,dtype=np.float32)\n",
    "#classifier.fit(X_train,y_train,steps=2000)\n",
    "clf = DecisionTreeClassifier()\n",
    "clf.fit(X_train,y_train)"
   ]
  },
  {
   "cell_type": "code",
   "execution_count": null,
   "metadata": {
    "collapsed": true
   },
   "outputs": [],
   "source": [
    "\n",
    "#X_test=np.array(X_test,dtype=np.float32)\n",
    "output=clf.predict(X_test)\n",
    "output=list(output)\n",
    "y_test=list(y_test)"
   ]
  },
  {
   "cell_type": "code",
   "execution_count": null,
   "metadata": {},
   "outputs": [],
   "source": [
    "output"
   ]
  },
  {
   "cell_type": "code",
   "execution_count": null,
   "metadata": {},
   "outputs": [],
   "source": [
    "a=[0]*418\n",
    "for i in range(891,1309):\n",
    "   a[i-891]=dataset[i]\n",
    "len(a)"
   ]
  },
  {
   "cell_type": "code",
   "execution_count": null,
   "metadata": {},
   "outputs": [],
   "source": [
    "\n",
    "count=0\n",
    "for i in range(0,171):\n",
    "    if y_test[i]==output[i]:\n",
    "        count=count+1\n",
    "print(count)\n",
    "len(y_test) "
   ]
  },
  {
   "cell_type": "code",
   "execution_count": null,
   "metadata": {},
   "outputs": [],
   "source": [
    "a=np.array(a,dtype=np.float32)\n",
    "out=classifier.predict(a)\n",
    "out=list(out)\n",
    "len(out)"
   ]
  },
  {
   "cell_type": "code",
   "execution_count": null,
   "metadata": {},
   "outputs": [],
   "source": [
    "test=pd.read_csv(\"test.csv\")\n",
    "test\n",
    "    "
   ]
  },
  {
   "cell_type": "code",
   "execution_count": null,
   "metadata": {
    "scrolled": false
   },
   "outputs": [],
   "source": [
    "test.loc[:,(\"Survived\")]=0\n",
    "test"
   ]
  },
  {
   "cell_type": "code",
   "execution_count": null,
   "metadata": {},
   "outputs": [],
   "source": [
    "test[\"Survived\"]=out\n",
    "test"
   ]
  },
  {
   "cell_type": "code",
   "execution_count": null,
   "metadata": {},
   "outputs": [],
   "source": [
    "test=test.drop([\"Pclass\",\"Name\",\"Sex\",\"Age\",\"SibSp\",\"Parch\",\"Ticket\",\"Fare\",\"Cabin\",\"Embarked\"],axis=1)\n",
    "test"
   ]
  },
  {
   "cell_type": "code",
   "execution_count": null,
   "metadata": {
    "collapsed": true
   },
   "outputs": [],
   "source": [
    "df = pd.DataFrame(test)\n",
    "df.to_csv(\"Output.csv\")"
   ]
  },
  {
   "cell_type": "code",
   "execution_count": null,
   "metadata": {},
   "outputs": [],
   "source": [
    "count=0\n",
    "for i in range(0,418):\n",
    "    if out[i]==1:\n",
    "        count=count+1\n",
    "count\n",
    "    "
   ]
  },
  {
   "cell_type": "code",
   "execution_count": null,
   "metadata": {
    "collapsed": true
   },
   "outputs": [],
   "source": []
  }
 ],
 "metadata": {
  "kernelspec": {
   "display_name": "Python 3",
   "language": "python",
   "name": "python3"
  },
  "language_info": {
   "codemirror_mode": {
    "name": "ipython",
    "version": 3
   },
   "file_extension": ".py",
   "mimetype": "text/x-python",
   "name": "python",
   "nbconvert_exporter": "python",
   "pygments_lexer": "ipython3",
   "version": "3.5.0"
  }
 },
 "nbformat": 4,
 "nbformat_minor": 2
}
